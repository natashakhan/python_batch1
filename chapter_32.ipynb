{
 "cells": [
  {
   "cell_type": "code",
   "execution_count": 1,
   "metadata": {},
   "outputs": [
    {
     "name": "stdout",
     "output_type": "stream",
     "text": [
      "1\n",
      "3\n",
      "9\n"
     ]
    }
   ],
   "source": [
    "hardness_scale = {\n",
    "  \"talc\": 1,\n",
    "  \"gypsum\": 3,\n",
    "  \"calcite\": 9,\n",
    "}\n",
    "for a_key in hardness_scale.keys():\n",
    "  print (hardness_scale[a_key])"
   ]
  },
  {
   "cell_type": "code",
   "execution_count": 2,
   "metadata": {},
   "outputs": [
    {
     "name": "stdout",
     "output_type": "stream",
     "text": [
      "{'talc': 1, 'gypsum': 3, 'calcite': 9}\n"
     ]
    }
   ],
   "source": [
    "minerals = {}\n",
    "hardness_scale = {\n",
    "  \"talc\": 1,\n",
    "  \"gypsum\": 3,\n",
    "  \"calcite\": 9,\n",
    "}\n",
    "for a_key in hardness_scale.keys():\n",
    "  minerals[a_key] = hardness_scale[a_key]\n",
    "print(minerals)"
   ]
  },
  {
   "cell_type": "code",
   "execution_count": null,
   "metadata": {},
   "outputs": [],
   "source": []
  }
 ],
 "metadata": {
  "kernelspec": {
   "display_name": "Python 3",
   "language": "python",
   "name": "python3"
  },
  "language_info": {
   "codemirror_mode": {
    "name": "ipython",
    "version": 3
   },
   "file_extension": ".py",
   "mimetype": "text/x-python",
   "name": "python",
   "nbconvert_exporter": "python",
   "pygments_lexer": "ipython3",
   "version": "3.7.1"
  }
 },
 "nbformat": 4,
 "nbformat_minor": 2
}
