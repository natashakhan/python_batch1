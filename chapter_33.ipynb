{
 "cells": [
  {
   "cell_type": "code",
   "execution_count": 1,
   "metadata": {},
   "outputs": [
    {
     "name": "stdout",
     "output_type": "stream",
     "text": [
      "uno\n",
      "due\n",
      "tre\n",
      "quattro\n"
     ]
    }
   ],
   "source": [
    "numbers = {\n",
    "  \"one\": \"uno\",\n",
    "  \"two\": \"due\",\n",
    "  \"three\": \"tre\",\n",
    "  \"four\": \"quattro\",\n",
    "}\n",
    "for english, italian in numbers.items():\n",
    "  print(italian)"
   ]
  },
  {
   "cell_type": "code",
   "execution_count": 2,
   "metadata": {},
   "outputs": [
    {
     "name": "stdout",
     "output_type": "stream",
     "text": [
      "The Italian word for one is uno\n",
      "The Italian word for two is due\n",
      "The Italian word for three is tre\n",
      "The Italian word for four is quattro\n"
     ]
    }
   ],
   "source": [
    "numbers = {\n",
    "  \"one\": \"uno\",\n",
    "  \"two\": \"due\",\n",
    "  \"three\": \"tre\",\n",
    "  \"four\": \"quattro\",\n",
    "}\n",
    "for english, italian in numbers.items():\n",
    "  print(\"The Italian word for \" + english + \" is \" + italian)"
   ]
  },
  {
   "cell_type": "code",
   "execution_count": null,
   "metadata": {},
   "outputs": [],
   "source": []
  }
 ],
 "metadata": {
  "kernelspec": {
   "display_name": "Python 3",
   "language": "python",
   "name": "python3"
  },
  "language_info": {
   "codemirror_mode": {
    "name": "ipython",
    "version": 3
   },
   "file_extension": ".py",
   "mimetype": "text/x-python",
   "name": "python",
   "nbconvert_exporter": "python",
   "pygments_lexer": "ipython3",
   "version": "3.7.1"
  }
 },
 "nbformat": 4,
 "nbformat_minor": 2
}
