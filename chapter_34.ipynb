{
 "cells": [
  {
   "cell_type": "code",
   "execution_count": 4,
   "metadata": {},
   "outputs": [
    {
     "data": {
      "text/plain": [
       "{'first name': 'David',\n",
       " 'last name': 'Elliott',\n",
       " 'address': '4803 Wellesley st.'}"
      ]
     },
     "execution_count": 4,
     "metadata": {},
     "output_type": "execute_result"
    }
   ],
   "source": [
    "customer_29876 = {\n",
    "\"first name\": \"David\",\n",
    "\"last name\": \"Elliott\",\n",
    "\"address\": \"4803 Wellesley st.\" }\n",
    "customer_29876\n"
   ]
  },
  {
   "cell_type": "code",
   "execution_count": 2,
   "metadata": {},
   "outputs": [
    {
     "name": "stdout",
     "output_type": "stream",
     "text": [
      "[{1: 'first'}]\n"
     ]
    }
   ],
   "source": [
    "tiny_list = [\n",
    "  {\n",
    "    1: \"first\",\n",
    "  },\n",
    "]\n",
    "print(tiny_list)"
   ]
  },
  {
   "cell_type": "code",
   "execution_count": 3,
   "metadata": {},
   "outputs": [
    {
     "name": "stdout",
     "output_type": "stream",
     "text": [
      "[{'female': 'Ms.', 'male': 'Mr.'}, {'knight': 'Sir', 'queen': 'Your Highness'}]\n"
     ]
    }
   ],
   "source": [
    "small_list = [\n",
    "  {\n",
    "    \"female\": \"Ms.\",\n",
    "    \"male\": \"Mr.\",\n",
    "  },\n",
    "  {\n",
    "    \"knight\": \"Sir\",\n",
    "    \"queen\": \"Your Highness\",\n",
    "  },\n",
    "]\n",
    "print(small_list)"
   ]
  },
  {
   "cell_type": "code",
   "execution_count": null,
   "metadata": {},
   "outputs": [],
   "source": []
  }
 ],
 "metadata": {
  "kernelspec": {
   "display_name": "Python 3",
   "language": "python",
   "name": "python3"
  },
  "language_info": {
   "codemirror_mode": {
    "name": "ipython",
    "version": 3
   },
   "file_extension": ".py",
   "mimetype": "text/x-python",
   "name": "python",
   "nbconvert_exporter": "python",
   "pygments_lexer": "ipython3",
   "version": "3.7.1"
  }
 },
 "nbformat": 4,
 "nbformat_minor": 2
}
