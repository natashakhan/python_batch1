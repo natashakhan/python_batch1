{
 "cells": [
  {
   "cell_type": "code",
   "execution_count": 1,
   "metadata": {},
   "outputs": [
    {
     "name": "stdout",
     "output_type": "stream",
     "text": [
      "It's a match.\n"
     ]
    }
   ],
   "source": [
    "chosen_letter = \"b\"\n",
    "letter_list = [\"a\", \"b\", \"c\", \"d\", \"e\", \"f\"]\n",
    "for a_letter in letter_list:\n",
    "  if a_letter == chosen_letter:\n",
    "    print(\"It's a match.\")\n",
    "    break"
   ]
  },
  {
   "cell_type": "code",
   "execution_count": 3,
   "metadata": {},
   "outputs": [
    {
     "name": "stdout",
     "output_type": "stream",
     "text": [
      "14\n"
     ]
    }
   ],
   "source": [
    "outer_loop_total = 0\n",
    "inner_loop_total = 0\n",
    "countries = [\"Albania\", \"Morocco\", \"Brazil\", \"Denmark\"]\n",
    "capitals = [\"Tel Aviv\", \"Abuja\", \"Brasília\", \"Islamabad\"]\n",
    "for country_to_check in countries:\n",
    "  outer_loop_total += 1\n",
    "  for city_to_check in capitals:\n",
    "    inner_loop_total += 1\n",
    "    if country_to_check == \"Brazil\" and city_to_check == \"Brasília\":\n",
    "      print(outer_loop_total + inner_loop_total)"
   ]
  },
  {
   "cell_type": "code",
   "execution_count": 4,
   "metadata": {},
   "outputs": [
    {
     "name": "stdout",
     "output_type": "stream",
     "text": [
      "7\n",
      "8\n",
      "9\n",
      "10\n",
      "11\n",
      "7\n",
      "8\n",
      "9\n",
      "10\n",
      "11\n",
      "7\n",
      "8\n",
      "9\n",
      "10\n",
      "11\n",
      "7\n",
      "8\n",
      "9\n",
      "10\n",
      "11\n",
      "7\n",
      "8\n",
      "9\n",
      "10\n",
      "11\n",
      "7\n",
      "8\n",
      "9\n",
      "10\n",
      "11\n"
     ]
    }
   ],
   "source": [
    "b = [1, 2, 3, 4, 5, 6]\n",
    "d = [7, 8, 9, 10, 11]\n",
    "for a in b:\n",
    "  for c in d:\n",
    "    print(c)"
   ]
  },
  {
   "cell_type": "code",
   "execution_count": 5,
   "metadata": {},
   "outputs": [
    {
     "name": "stdout",
     "output_type": "stream",
     "text": [
      "ok\n"
     ]
    }
   ],
   "source": [
    "nums = (1, 2, 3, 4, 5, 6)\n",
    "strings = (\"a\", \"b\", \"c\", \"d\", \"e\")\n",
    "for a_number in nums:\n",
    "  for a_string in strings:\n",
    "    if a_number == 4 and a_string == \"b\":\n",
    "      print(\"ok\")"
   ]
  },
  {
   "cell_type": "code",
   "execution_count": null,
   "metadata": {},
   "outputs": [],
   "source": []
  }
 ],
 "metadata": {
  "kernelspec": {
   "display_name": "Python 3",
   "language": "python",
   "name": "python3"
  },
  "language_info": {
   "codemirror_mode": {
    "name": "ipython",
    "version": 3
   },
   "file_extension": ".py",
   "mimetype": "text/x-python",
   "name": "python",
   "nbconvert_exporter": "python",
   "pygments_lexer": "ipython3",
   "version": "3.7.1"
  }
 },
 "nbformat": 4,
 "nbformat_minor": 2
}
