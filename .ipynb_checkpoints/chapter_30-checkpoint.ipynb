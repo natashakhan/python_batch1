{
 "cells": [
  {
   "cell_type": "code",
   "execution_count": 1,
   "metadata": {},
   "outputs": [
    {
     "name": "stdout",
     "output_type": "stream",
     "text": [
      "{'Nelsonville': \"Ed's Sonoco\", 'Ayersville': 'Kerosene Korner'}\n"
     ]
    }
   ],
   "source": [
    "charging_stations = {\n",
    "  \"Nelsonville\": \"Ed's Sonoco\",\n",
    "  \"Brownsville\": \"Pick 'n Pay\",\n",
    "  \"Ayersville\": \"Kerosene Korner\",\n",
    "}\n",
    "del charging_stations[\"Brownsville\"]\n",
    "print(charging_stations)"
   ]
  },
  {
   "cell_type": "code",
   "execution_count": 2,
   "metadata": {},
   "outputs": [
    {
     "name": "stdout",
     "output_type": "stream",
     "text": [
      "{'Nelsonville': \"Ed's Sonoco\", 'Brownsville': \"Starbuck's\", 'Ayersville': 'Kerosene Korner'}\n"
     ]
    }
   ],
   "source": [
    "charging_stations = {\n",
    "  \"Nelsonville\": \"Ed's Sonoco\",\n",
    "  \"Brownsville\": \"Pick 'n Pay\",\n",
    "  \"Ayersville\": \"Kerosene Korner\",\n",
    "}\n",
    "charging_stations[\"Brownsville\"] = \"Starbuck's\"\n",
    "print(charging_stations)"
   ]
  },
  {
   "cell_type": "code",
   "execution_count": null,
   "metadata": {},
   "outputs": [],
   "source": []
  }
 ],
 "metadata": {
  "kernelspec": {
   "display_name": "Python 3",
   "language": "python",
   "name": "python3"
  },
  "language_info": {
   "codemirror_mode": {
    "name": "ipython",
    "version": 3
   },
   "file_extension": ".py",
   "mimetype": "text/x-python",
   "name": "python",
   "nbconvert_exporter": "python",
   "pygments_lexer": "ipython3",
   "version": "3.7.1"
  }
 },
 "nbformat": 4,
 "nbformat_minor": 2
}
