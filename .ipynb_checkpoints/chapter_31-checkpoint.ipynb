{
 "cells": [
  {
   "cell_type": "code",
   "execution_count": 5,
   "metadata": {},
   "outputs": [
    {
     "name": "stdout",
     "output_type": "stream",
     "text": [
      "Google\n",
      "Facebook\n",
      "Travelocity\n",
      "Amazon\n"
     ]
    }
   ],
   "source": [
    "sites = {\n",
    "  \"search\": \"Google\",\n",
    "  \"social\": \"Facebook\",\n",
    "  \"travel\": \"Travelocity\",\n",
    "  \"retail\": \"Amazon\",\n",
    "}\n",
    "for name in sites.values():\n",
    "  print(name)"
   ]
  },
  {
   "cell_type": "code",
   "execution_count": 8,
   "metadata": {},
   "outputs": [
    {
     "name": "stdout",
     "output_type": "stream",
     "text": [
      "['Agra', 'kashmir', 'bagh', 'Google']\n"
     ]
    }
   ],
   "source": [
    "a_list = [\"Agra\", \"kashmir\", \"bagh\"]\n",
    "sites = {\n",
    "  \"search\": \"Google\",\n",
    "  \"social\": \"Facebook\",\n",
    "  \"travel\": \"Travelocity\",\n",
    "  \"retail\": \"Amazon\",\n",
    "}\n",
    "for name in sites.values():\n",
    "  if name == \"Google\":\n",
    "    a_list.append(name)\n",
    "    break\n",
    "print(a_list)"
   ]
  },
  {
   "cell_type": "code",
   "execution_count": null,
   "metadata": {},
   "outputs": [],
   "source": []
  }
 ],
 "metadata": {
  "kernelspec": {
   "display_name": "Python 3",
   "language": "python",
   "name": "python3"
  },
  "language_info": {
   "codemirror_mode": {
    "name": "ipython",
    "version": 3
   },
   "file_extension": ".py",
   "mimetype": "text/x-python",
   "name": "python",
   "nbconvert_exporter": "python",
   "pygments_lexer": "ipython3",
   "version": "3.7.1"
  }
 },
 "nbformat": 4,
 "nbformat_minor": 2
}
