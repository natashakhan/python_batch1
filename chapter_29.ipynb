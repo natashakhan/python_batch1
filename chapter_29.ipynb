{
 "cells": [
  {
   "cell_type": "code",
   "execution_count": 1,
   "metadata": {},
   "outputs": [
    {
     "name": "stdout",
     "output_type": "stream",
     "text": [
      "1281\n"
     ]
    }
   ],
   "source": [
    "prices = {\n",
    "  \"ethanol\": 1.531,\n",
    "  \"natural gas\": 2.892,\n",
    "  \"gasoline\": 1.5646,\n",
    "}\n",
    "prices[\"gold\"] = 1281\n",
    "print(prices[\"gold\"])"
   ]
  },
  {
   "cell_type": "code",
   "execution_count": 2,
   "metadata": {},
   "outputs": [
    {
     "name": "stdout",
     "output_type": "stream",
     "text": [
      "{'ethanol': 1.531, 'natural gas': 2.892, 'gasoline': 1.5646, 'gold': 1281}\n"
     ]
    }
   ],
   "source": [
    "prices = {\n",
    "  \"ethanol\": 1.531,\n",
    "  \"natural gas\": 2.892,\n",
    "  \"gasoline\": 1.5646,\n",
    "}\n",
    "prices[\"gold\"] = 1281\n",
    "print(prices)"
   ]
  },
  {
   "cell_type": "code",
   "execution_count": null,
   "metadata": {},
   "outputs": [],
   "source": []
  }
 ],
 "metadata": {
  "kernelspec": {
   "display_name": "Python 3",
   "language": "python",
   "name": "python3"
  },
  "language_info": {
   "codemirror_mode": {
    "name": "ipython",
    "version": 3
   },
   "file_extension": ".py",
   "mimetype": "text/x-python",
   "name": "python",
   "nbconvert_exporter": "python",
   "pygments_lexer": "ipython3",
   "version": "3.7.1"
  }
 },
 "nbformat": 4,
 "nbformat_minor": 2
}
